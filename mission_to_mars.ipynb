{
 "cells": [
  {
   "cell_type": "markdown",
   "metadata": {},
   "source": [
    "# Web Scraping: Mission to Mars \n",
    "\n",
    "Objective: Build a web application that scrapes various websites for data related to the Mission to Mars and displays the information in a single HTML page."
   ]
  },
  {
   "cell_type": "markdown",
   "metadata": {},
   "source": [
    "### Dependecies used in this Jupyter Notebook"
   ]
  },
  {
   "cell_type": "code",
   "execution_count": 1,
   "metadata": {},
   "outputs": [],
   "source": [
    "# Dependencies\n",
    "from bs4 import BeautifulSoup as bs\n",
    "import requests\n",
    "import pymongo\n",
    "from splinter import Browser\n",
    "import time"
   ]
  },
  {
   "cell_type": "code",
   "execution_count": 2,
   "metadata": {},
   "outputs": [],
   "source": [
    "import pandas as pd"
   ]
  },
  {
   "cell_type": "markdown",
   "metadata": {},
   "source": [
    "# Step 1 - Scraping\n",
    "\n",
    "Created a Jupyter Notebook file called mission_to_mars.ipynb and used to complete all of the scraping and analysis tasks.\n",
    "- NASA Mars News\n",
    "- JPL Mars Space Images - Featured Image\n",
    "- Mars Weather\n",
    "- Mars Facts\n",
    "- Mars Hemispheres"
   ]
  },
  {
   "cell_type": "markdown",
   "metadata": {},
   "source": [
    "## 1. NASA Mars News\n",
    "* Scrape the NASA Mars News Site and collect the latest News Title and Paragraph Text. Assign the text to variables that you can reference later."
   ]
  },
  {
   "cell_type": "code",
   "execution_count": 3,
   "metadata": {},
   "outputs": [],
   "source": [
    "# https://splinter.readthedocs.io/en/latest/drivers/chrome.html\n",
    "chromedriver_full_path = !which chromedriver"
   ]
  },
  {
   "cell_type": "code",
   "execution_count": 4,
   "metadata": {},
   "outputs": [
    {
     "data": {
      "text/plain": [
       "'/usr/local/bin/chromedriver'"
      ]
     },
     "execution_count": 4,
     "metadata": {},
     "output_type": "execute_result"
    }
   ],
   "source": [
    "chromedriver_path = chromedriver_full_path.nlstr\n",
    "chromedriver_path"
   ]
  },
  {
   "cell_type": "code",
   "execution_count": 5,
   "metadata": {},
   "outputs": [],
   "source": [
    "# Links\n",
    "nasa_mars = 'https://mars.nasa.gov/news'"
   ]
  },
  {
   "cell_type": "code",
   "execution_count": 6,
   "metadata": {},
   "outputs": [],
   "source": [
    "executable_path = {'executable_path': chromedriver_path}\n",
    "browser = Browser('chrome', **executable_path, headless=False)"
   ]
  },
  {
   "cell_type": "code",
   "execution_count": 7,
   "metadata": {},
   "outputs": [],
   "source": [
    "browser.visit(nasa_mars)"
   ]
  },
  {
   "cell_type": "code",
   "execution_count": 8,
   "metadata": {},
   "outputs": [
    {
     "name": "stdout",
     "output_type": "stream",
     "text": [
      "NASA's Mars 2020 Gets a Dose of Space Here on Earth\n",
      "NASA's Mars 2020 spacecraft has completed tests that are the best Earthly approximations of what the spacecraft will endure during launch and interplanetary cruise.\n"
     ]
    }
   ],
   "source": [
    "# FIND LATEST NEWS TITLE AND PARAGRAPH\n",
    "html = browser.html\n",
    "soup = bs(html, 'html.parser')\n",
    "\n",
    "slides = soup.find('li', class_='slide')\n",
    "# GET latest news title.\n",
    "nasa_title = slides.find('div', class_='content_title')\n",
    "latest_title = nasa_title.text\n",
    "# GET latest news paragraph\n",
    "description = slides.find('div', class_='rollover_description_inner')\n",
    "latest_description = description.text\n",
    "print(latest_title)\n",
    "print (latest_description)"
   ]
  },
  {
   "cell_type": "markdown",
   "metadata": {},
   "source": [
    "Scraped data variables to pass:\n",
    "* latest_title\n",
    "* latest_description"
   ]
  },
  {
   "cell_type": "code",
   "execution_count": 9,
   "metadata": {},
   "outputs": [
    {
     "name": "stdout",
     "output_type": "stream",
     "text": [
      "----------\n",
      "NASA's Mars 2020 Gets a Dose of Space Here on Earth\n",
      "NASA's Mars 2020 spacecraft has completed tests that are the best Earthly approximations of what the spacecraft will endure during launch and interplanetary cruise.\n",
      "----------\n",
      "NASA Invites Public to Submit Names to Fly Aboard Next Mars Rover\n",
      "From now till Sept. 30, the public can submit names to be stenciled on chips that will fly on the Mars 2020 rover and receive a souvenir boarding pass.\n",
      "----------\n",
      "NASA's MRO Completes 60,000 Trips Around Mars\n",
      "The orbiting spacecraft is also about to set a record for data relayed from the Martian surface.\n",
      "----------\n",
      "Video: Fly over Mount Sharp on Mars\n",
      "A new animation shows the region NASA's Curiosity rover is currently exploring and where its team wants to go in the future.\n",
      "----------\n",
      "Why This Martian Full Moon Looks Like Candy\n",
      "For the first time, NASA's Mars Odyssey orbiter has caught the Martian moon Phobos during a full moon phase. Each color in this new image represents a temperature range detected by Odyssey's infrared camera.\n",
      "----------\n",
      "For InSight, Dust Cleanings Will Yield New Science\n",
      "Wind can be crucial to clearing dust from spacecraft solar panels on Mars. With InSight's meteorological sensors, scientists get their first measurements of wind and dust interacting \"live\" on the Martian surface.\n",
      "----------\n",
      "InSight Captures Sunrise and Sunset on Mars\n",
      "InSight joins the rest of NASA's Red Planet surface missions, all of which have photographed either the start or end of a Martian day.\n",
      "----------\n",
      "NASA Social Media and Websites Win Webby Awards\n",
      "NASA's social media presence, the InSight mission social media accounts, NASA.gov and SolarSystem.NASA.gov will be honored at the 2019 Webby Awards - \"the Oscars of the Internet.\"\n",
      "----------\n",
      "NASA's InSight Detects First Likely 'Quake' on Mars\n",
      "While their causes are still unknown, one of three shaking events looks a lot like the quakes detected on the Moon by the Apollo missions.\n",
      "----------\n",
      "Things Are Stacking up for NASA's Mars 2020 Spacecraft\n",
      "As the July 2020 launch date inches closer, the next spacecraft headed to the Red Planet is assembled for more testing.\n",
      "----------\n",
      "Curiosity Tastes First Sample in 'Clay-Bearing Unit'\n",
      "This new region on Mars might reveal more about the role of water on Mount Sharp.\n",
      "----------\n",
      "More Testing for Mars InSight's 'Mole'\n",
      "After the mission's heat probe began hammering last week, it appears to have hit a rock. The team is analyzing data before they hammer again.\n",
      "----------\n",
      "NASA Garners 7 Webby Award Nominations\n",
      "Nominees include four JPL projects: the solar system and climate websites, InSight social media, and a 360-degree Earth video. Public voting closes April 18, 2019.\n",
      "----------\n",
      "Curiosity Captured Two Solar Eclipses on Mars\n",
      "Observing the Martian moons Phobos and Deimos crossing in front of the Sun helps scientists better understand their orbits.\n",
      "----------\n",
      "NASA's Mars Helicopter Completes Flight Tests\n",
      "The first helicopter to fly on Mars had its first flight on Earth.\n",
      "----------\n",
      "Asteroids, Hydrogen Make Great Recipe for Life on Mars\n",
      "Laser blasts in lab tests suggest asteroid bombardment could have provided key ingredients for life on ancient Mars.\n",
      "----------\n",
      "Catch NASA's JPL at the Clippers SciFest This Weekend\n",
      "Students and families can meet a Mars rover, take a virtual tour through our solar system and explore alien worlds with NASA's Jet Propulsion Laboratory at the Clippers SciFest SoCal.\n",
      "----------\n",
      "NASA's Mars 2020 Rover Is Put to the Test\n",
      "In January, Mars 2020 engineers and technicians took over JPL's cleanroom to put the mission's cruise, entry capsule, descent stage and rover through their paces.\n",
      "----------\n",
      "Opportunity's Parting Shot Was a Beautiful Panorama\n",
      "NASA declared the record-setting rover's mission complete on Feb. 13, 2019, but the final image from the rover has just been processed.\n",
      "----------\n",
      "Curiosity Resumes Operations After Switching Computers\n",
      "Curiosity experienced a computer reset on its Side-A computer on Wednesday, March 6, 2019 (Sol 2,339), that triggered the rover's safe mode.\n",
      "----------\n",
      "InSight Lands Praise and a Proclamation from LA County\n",
      "Several members of the Mars InSight team accepted a proclamation on behalf of the mission from L.A. County Board of Supervisors on Tuesday, Feb. 19.\n",
      "----------\n",
      "InSight Is the Newest Mars Weather Service\n",
      "By collecting data around the clock, NASA's lander will provide unique science about the Martian surface.\n",
      "----------\n",
      "Six Things to Know About NASA's Opportunity Rover\n",
      "Opportunity's mission is complete. Here are highlights from its time on Mars.\n",
      "----------\n",
      "NASA's Opportunity Rover Mission on Mars Comes to End\n",
      "NASA's Opportunity Mars rover mission is complete after 15 years on Mars. Opportunity's record-breaking exploration laid the groundwork for future missions to the Red Planet.\n",
      "----------\n",
      "NASA's InSight Prepares to Take Mars' Temperature\n",
      "The lander's second instrument is on the ground. But its ‘mole’ — a burrowing probe — has a long way to go.\n",
      "----------\n",
      "NASA to Share Results of Effort to Recover Mars Rover\n",
      "NASA will discuss the status of its Mars Exploration Rover Opportunity in a media briefing at 11 a.m. PST (2 p.m. EST) Wednesday, Feb. 13, from the Jet Propulsion Laboratory.\n",
      "----------\n",
      "NASA's MAVEN Spacecraft Shrinking its Mars Orbit to Prepare for Mars 2020 Rover\n",
      "The MAVEN spacecraft today is starting a campaign to tighten its orbit around Mars to prepare to serve as a data-relay satellite for NASA’s Mars 2020 rover, which launches next year.\n",
      "----------\n",
      "360 Video: Curiosity Rover Departs Vera Rubin Ridge\n",
      "This panorama from the Mast Camera (Mastcam) on NASA's Curiosity Mars rover was taken on Dec. 19 (Sol 2265). The rover's last drill location on Vera Rubin Ridge is visible, as well as the clay region it will spend the next year exploring.\n",
      "----------\n",
      "Beyond Mars, the Mini MarCO Spacecraft Fall Silent\n",
      "The first CubeSat mission to deep space may have reached their limit, but they could inspire future NASA missions.\n",
      "----------\n",
      "InSight's Seismometer Now Has a Cozy Shelter on Mars\n",
      "A domed shield has been set over one of InSight's primary science instruments, protecting it from Mars' wind and temperature changes.\n",
      "----------\n",
      "\"Mars Buggy\" Curiosity Measures a Mountain's Gravity\n",
      "Smartphone-like sensors on the NASA rover were used to calculate the density of Mount Sharp, offering new clues to its formation.\n",
      "----------\n",
      "Curiosity Says Farewell to Mars' Vera Rubin Ridge\n",
      "The Mars rover is moving on and has taken its last selfie on the ridge it's explored for more than a year.\n",
      "----------\n",
      "Rover Team Beaming New Commands to Opportunity on Mars\n",
      "Engineers at JPL have begun transmitting a new set of commands to Opportunity in an attempt to compel the Mars rover to contact Earth.\n",
      "----------\n",
      "NASA's Opportunity Rover Logs 15 Years on Mars\n",
      "The rover landed in a region of the Red Planet called Meridiani Planum 16 years ago today, on Jan. 24, 2004.\n",
      "----------\n",
      "NASA's InSight Places First Instrument on Mars\n",
      "In deploying its first instrument onto the surface of Mars, the lander completes a major mission milestone.\n",
      "----------\n",
      "InSight Engineers Have Made a Martian Rock Garden\n",
      "Reconstructing Mars here on Earth lets them practice setting down the lander's science instruments.\n",
      "----------\n",
      "Mars InSight Lander Seen in First Images from Space\n",
      "Look closely, and you can make out the lander's solar panels.\n",
      "----------\n",
      "NASA's InSight Takes Its First Selfie\n",
      "Two new image mosaics detail the lander's deck and \"workspace\" — the surface where it will eventually set down its science instruments.\n",
      "----------\n",
      "NASA InSight Lander 'Hears' Martian Winds\n",
      "Vibrations picked up by two spacecraft instruments have provided the first sounds of Martian wind.\n",
      "----------\n",
      "NASA's Mars InSight Flexes Its Arm\n",
      "Now unstowed, the spacecraft's robotic arm will point a camera located on its elbow and take images of the surroundings.\n"
     ]
    }
   ],
   "source": [
    "# EXTRA: FIND ALL LATEST TITLES AND PARAGRAPHS\n",
    "html = browser.html\n",
    "soup = bs(html, 'html.parser')\n",
    "\n",
    "slides = soup.find_all('li', class_='slide')\n",
    "#nasa_titles = soup.find_all('div', class_='content_title')\n",
    "\n",
    "#for title in nasa_titles:  \n",
    "for title in slides:\n",
    "    print(\"----------\")\n",
    "    nasa_title = title.find('div', class_='content_title').text\n",
    "    nasa_title = nasa_title.strip()        \n",
    "    print(nasa_title)\n",
    "    description = title.find('div', class_='rollover_description_inner').text\n",
    "    description = description.strip()\n",
    "    print(description)    "
   ]
  },
  {
   "cell_type": "markdown",
   "metadata": {
    "collapsed": true
   },
   "source": [
    "---"
   ]
  },
  {
   "cell_type": "markdown",
   "metadata": {
    "collapsed": true
   },
   "source": [
    "## 2. JPL Mars Space Images - Featured Image\n",
    "* Visit the url for JPL Featured Space Image here.\n",
    "* Use splinter to navigate the site and find the image url for the current Featured Mars Image and assign the url string to a variable called featured_image_url.\n",
    "* Make sure to find the image url to the full size .jpg image.\n",
    "* Make sure to save a complete url string for this image."
   ]
  },
  {
   "cell_type": "code",
   "execution_count": 10,
   "metadata": {},
   "outputs": [],
   "source": [
    "# Open Browser with splinter\n",
    "executable_path = {'executable_path': chromedriver_path}\n",
    "browser = Browser('chrome', **executable_path, headless=False)"
   ]
  },
  {
   "cell_type": "code",
   "execution_count": 11,
   "metadata": {},
   "outputs": [],
   "source": [
    "# Define and visit URL\n",
    "jpl_mars_image = 'https://www.jpl.nasa.gov/spaceimages/?search=&category=Mars'\n",
    "base_jpl_url = 'https://www.jpl.nasa.gov'\n",
    "browser.visit(jpl_mars_image)"
   ]
  },
  {
   "cell_type": "code",
   "execution_count": 12,
   "metadata": {},
   "outputs": [
    {
     "data": {
      "text/plain": [
       "'/spaceimages/images/mediumsize/PIA17254_ip.jpg'"
      ]
     },
     "execution_count": 12,
     "metadata": {},
     "output_type": "execute_result"
    }
   ],
   "source": [
    "# Create BS4 Object\n",
    "html = browser.html\n",
    "soup = bs(html, 'html.parser')\n",
    "\n",
    "url = soup.find('div', class_='carousel_container')\n",
    "featured_image_url = url.find('a')['data-fancybox-href']\n",
    "featured_image_url"
   ]
  },
  {
   "cell_type": "code",
   "execution_count": 13,
   "metadata": {},
   "outputs": [
    {
     "data": {
      "text/plain": [
       "'https://www.jpl.nasa.gov/spaceimages/images/mediumsize/PIA17254_ip.jpg'"
      ]
     },
     "execution_count": 13,
     "metadata": {},
     "output_type": "execute_result"
    }
   ],
   "source": [
    "featured_image_url = base_jpl_url + featured_image_url\n",
    "featured_image_url"
   ]
  },
  {
   "cell_type": "markdown",
   "metadata": {},
   "source": [
    "Scraped data variable to pass:\n",
    "* featured_image_url"
   ]
  },
  {
   "cell_type": "markdown",
   "metadata": {},
   "source": [
    "---"
   ]
  },
  {
   "cell_type": "markdown",
   "metadata": {},
   "source": [
    "## Mars Weather\n",
    "* Visit the Mars Weather twitter account here and scrape the latest Mars weather tweet from the page. Save the tweet text for the weather report as a variable called mars_weather."
   ]
  },
  {
   "cell_type": "code",
   "execution_count": 14,
   "metadata": {},
   "outputs": [],
   "source": [
    "# Open Browser with splinter\n",
    "executable_path = {'executable_path': chromedriver_path}\n",
    "browser = Browser('chrome', **executable_path, headless=False)"
   ]
  },
  {
   "cell_type": "code",
   "execution_count": 15,
   "metadata": {},
   "outputs": [],
   "source": [
    "# Define and visit URL\n",
    "mars_weather_url = 'https://twitter.com/marswxreport?lang=en'\n",
    "browser.visit(mars_weather_url)"
   ]
  },
  {
   "cell_type": "code",
   "execution_count": 16,
   "metadata": {},
   "outputs": [
    {
     "data": {
      "text/plain": [
       "<div class=\"js-tweet-text-container\">\n",
       "<p class=\"TweetTextSize TweetTextSize--normal js-tweet-text tweet-text\" data-aria-label-part=\"0\" lang=\"en\">InSight sol 176 (2019-05-26) low -100.3ºC (-148.6ºF) high -19.9ºC (-3.9ºF)\n",
       "winds from the W at 4.2 m/s (9.5 mph) gusting to 15.9 m/s (35.6 mph)\n",
       "pressure at 7.50 hPa<a class=\"twitter-timeline-link u-hidden\" data-pre-embedded=\"true\" dir=\"ltr\" href=\"https://t.co/rI1XSUC5yf\">pic.twitter.com/rI1XSUC5yf</a></p>\n",
       "</div>"
      ]
     },
     "execution_count": 16,
     "metadata": {},
     "output_type": "execute_result"
    }
   ],
   "source": [
    "# Create BS4 Object\n",
    "html = browser.html\n",
    "soup = bs(html, 'html.parser')\n",
    "\n",
    "# Print html section for the latest tweet\n",
    "tweet_container = soup.find('div', class_='js-tweet-text-container')\n",
    "tweet_container"
   ]
  },
  {
   "cell_type": "code",
   "execution_count": 17,
   "metadata": {},
   "outputs": [
    {
     "data": {
      "text/plain": [
       "'InSight sol 176 (2019-05-26) low -100.3ºC (-148.6ºF) high -19.9ºC (-3.9ºF)\\nwinds from the W at 4.2 m/s (9.5 mph) gusting to 15.9 m/s (35.6 mph)\\npressure at 7.50 hPapic.twitter.com/rI1XSUC5yf'"
      ]
     },
     "execution_count": 17,
     "metadata": {},
     "output_type": "execute_result"
    }
   ],
   "source": [
    "# Get the text from that latest tweet and remove \"\\n chars\"\n",
    "tweet_container_text = tweet_container.p.text.strip()\n",
    "tweet_container_text"
   ]
  },
  {
   "cell_type": "code",
   "execution_count": 18,
   "metadata": {},
   "outputs": [
    {
     "data": {
      "text/plain": [
       "'InSight sol 176 (2019-05-26) low -100.3ºC (-148.6ºF) high -19.9ºC (-3.9ºF)\\nwinds from the W at 4.2 m/s (9.5 mph) gusting to 15.9 m/s (35.6 mph)\\npressure at 7.50 hPa'"
      ]
     },
     "execution_count": 18,
     "metadata": {},
     "output_type": "execute_result"
    }
   ],
   "source": [
    "# Remove the href text(image description) from latest tweet to get only the Tweet\n",
    "latest_tweet = tweet_container_text.replace(tweet_container.a.text,'')\n",
    "latest_tweet"
   ]
  },
  {
   "cell_type": "code",
   "execution_count": 19,
   "metadata": {},
   "outputs": [
    {
     "data": {
      "text/plain": [
       "'InSight sol 176 (2019-05-26) low -100.3ºC (-148.6ºF) high -19.9ºC (-3.9ºF) winds from the W at 4.2 m/s (9.5 mph) gusting to 15.9 m/s (35.6 mph) pressure at 7.50 hPa'"
      ]
     },
     "execution_count": 19,
     "metadata": {},
     "output_type": "execute_result"
    }
   ],
   "source": [
    "# Remove \"\\n chars\" found in the middle\n",
    "latest_tweet = latest_tweet.replace('\\n',' ')\n",
    "latest_tweet"
   ]
  },
  {
   "cell_type": "markdown",
   "metadata": {},
   "source": [
    "Scraped data vaariable to pass:\n",
    "* latest_tweet"
   ]
  },
  {
   "cell_type": "markdown",
   "metadata": {},
   "source": [
    "---"
   ]
  },
  {
   "cell_type": "markdown",
   "metadata": {},
   "source": [
    "## Mars Facts\n",
    "* Visit the Mars Facts webpage here and use Pandas to scrape the table containing facts about the planet including Diameter, Mass, etc.\n",
    "* Use Pandas to convert the data to a HTML table string."
   ]
  },
  {
   "cell_type": "code",
   "execution_count": 20,
   "metadata": {},
   "outputs": [],
   "source": [
    "# Open Browser with splinter\n",
    "executable_path = {'executable_path': chromedriver_path}\n",
    "browser = Browser('chrome', **executable_path, headless=False)"
   ]
  },
  {
   "cell_type": "code",
   "execution_count": 21,
   "metadata": {},
   "outputs": [],
   "source": [
    "# Define and visit URL\n",
    "mars_fact_url = 'https://space-facts.com/mars/'\n",
    "browser.visit(mars_fact_url)"
   ]
  },
  {
   "cell_type": "code",
   "execution_count": 22,
   "metadata": {},
   "outputs": [
    {
     "data": {
      "text/plain": [
       "[<tr class=\"row-1 odd\">\n",
       " <td class=\"column-1\"><strong>Equatorial Diameter:</strong></td><td class=\"column-2\">6,792 km<br/>\n",
       " </td>\n",
       " </tr>, <tr class=\"row-2 even\">\n",
       " <td class=\"column-1\"><strong>Polar Diameter:</strong></td><td class=\"column-2\">6,752 km<br/>\n",
       " </td>\n",
       " </tr>, <tr class=\"row-3 odd\">\n",
       " <td class=\"column-1\"><strong>Mass:</strong></td><td class=\"column-2\">6.42 x 10^23 kg (10.7% Earth)</td>\n",
       " </tr>, <tr class=\"row-4 even\">\n",
       " <td class=\"column-1\"><strong>Moons:</strong></td><td class=\"column-2\">2 (<a href=\"https://space-facts.com/phobos/\">Phobos</a> &amp; <a href=\"https://space-facts.com/deimos/\">Deimos</a>)</td>\n",
       " </tr>, <tr class=\"row-5 odd\">\n",
       " <td class=\"column-1\"><strong>Orbit Distance:</strong></td><td class=\"column-2\">227,943,824 km (1.52 AU)</td>\n",
       " </tr>, <tr class=\"row-6 even\">\n",
       " <td class=\"column-1\"><strong>Orbit Period:</strong></td><td class=\"column-2\">687 days (1.9 years)<br/>\n",
       " </td>\n",
       " </tr>, <tr class=\"row-7 odd\">\n",
       " <td class=\"column-1\"><strong>Surface Temperature: </strong></td><td class=\"column-2\">-153 to 20 °C</td>\n",
       " </tr>, <tr class=\"row-8 even\">\n",
       " <td class=\"column-1\"><strong>First Record:</strong></td><td class=\"column-2\">2nd millennium BC</td>\n",
       " </tr>, <tr class=\"row-9 odd\">\n",
       " <td class=\"column-1\"><strong>Recorded By:</strong></td><td class=\"column-2\">Egyptian astronomers</td>\n",
       " </tr>]"
      ]
     },
     "execution_count": 22,
     "metadata": {},
     "output_type": "execute_result"
    }
   ],
   "source": [
    "# Extract Mars Hemispheres Web\n",
    "html = browser.html\n",
    "soup = bs(html, 'html.parser')\n",
    "\n",
    "table = soup.find_all('tr')\n",
    "table"
   ]
  },
  {
   "cell_type": "code",
   "execution_count": 23,
   "metadata": {},
   "outputs": [
    {
     "name": "stdout",
     "output_type": "stream",
     "text": [
      "Equatorial Diameter:\n",
      "6,792 km\n",
      "Polar Diameter:\n",
      "6,752 km\n",
      "Mass:\n",
      "6.42 x 10^23 kg (10.7% Earth)\n",
      "Moons:\n",
      "2 (Phobos & Deimos)\n",
      "Orbit Distance:\n",
      "227,943,824 km (1.52 AU)\n",
      "Orbit Period:\n",
      "687 days (1.9 years)\n",
      "Surface Temperature:\n",
      "-153 to 20 °C\n",
      "First Record:\n",
      "2nd millennium BC\n",
      "Recorded By:\n",
      "Egyptian astronomers\n"
     ]
    }
   ],
   "source": [
    "# Get the text from the Mars Facts Table\n",
    "for row in table:\n",
    "    fact_name = row.find('td', class_='column-1')\n",
    "    fact_value = row.find('td', class_='column-2')\n",
    "    print(fact_name.text.strip())\n",
    "    print(fact_value.text.strip())"
   ]
  },
  {
   "cell_type": "code",
   "execution_count": 24,
   "metadata": {},
   "outputs": [
    {
     "name": "stdout",
     "output_type": "stream",
     "text": [
      "['Equatorial Diameter:', 'Polar Diameter:', 'Mass:', 'Moons:', 'Orbit Distance:', 'Orbit Period:', 'Surface Temperature:', 'First Record:', 'Recorded By:']\n",
      "['6,792 km', '6,752 km', '6.42 x 10^23 kg (10.7% Earth)', '2 (Phobos & Deimos)', '227,943,824 km (1.52 AU)', '687 days (1.9 years)', '-153 to 20 °C', '2nd millennium BC', 'Egyptian astronomers']\n"
     ]
    }
   ],
   "source": [
    "# Get the elements of the Website Table in 2 lists\n",
    "mars_facts = []\n",
    "mars_facts_values = []\n",
    "for row in table:\n",
    "    fact_name = row.find('td', class_='column-1').text.strip()\n",
    "    fact_value = row.find('td', class_='column-2').text.strip()\n",
    "\n",
    "    mars_facts.append(fact_name)\n",
    "    mars_facts_values.append(fact_value) \n",
    "\n",
    "print(mars_facts)\n",
    "print(mars_facts_values)"
   ]
  },
  {
   "cell_type": "code",
   "execution_count": 25,
   "metadata": {},
   "outputs": [
    {
     "data": {
      "text/html": [
       "<div>\n",
       "<style scoped>\n",
       "    .dataframe tbody tr th:only-of-type {\n",
       "        vertical-align: middle;\n",
       "    }\n",
       "\n",
       "    .dataframe tbody tr th {\n",
       "        vertical-align: top;\n",
       "    }\n",
       "\n",
       "    .dataframe thead th {\n",
       "        text-align: right;\n",
       "    }\n",
       "</style>\n",
       "<table border=\"1\" class=\"dataframe\">\n",
       "  <thead>\n",
       "    <tr style=\"text-align: right;\">\n",
       "      <th></th>\n",
       "      <th>Description</th>\n",
       "      <th>Value</th>\n",
       "    </tr>\n",
       "  </thead>\n",
       "  <tbody>\n",
       "    <tr>\n",
       "      <th>0</th>\n",
       "      <td>Equatorial Diameter:</td>\n",
       "      <td>6,792 km</td>\n",
       "    </tr>\n",
       "    <tr>\n",
       "      <th>1</th>\n",
       "      <td>Polar Diameter:</td>\n",
       "      <td>6,752 km</td>\n",
       "    </tr>\n",
       "    <tr>\n",
       "      <th>2</th>\n",
       "      <td>Mass:</td>\n",
       "      <td>6.42 x 10^23 kg (10.7% Earth)</td>\n",
       "    </tr>\n",
       "    <tr>\n",
       "      <th>3</th>\n",
       "      <td>Moons:</td>\n",
       "      <td>2 (Phobos &amp; Deimos)</td>\n",
       "    </tr>\n",
       "    <tr>\n",
       "      <th>4</th>\n",
       "      <td>Orbit Distance:</td>\n",
       "      <td>227,943,824 km (1.52 AU)</td>\n",
       "    </tr>\n",
       "    <tr>\n",
       "      <th>5</th>\n",
       "      <td>Orbit Period:</td>\n",
       "      <td>687 days (1.9 years)</td>\n",
       "    </tr>\n",
       "    <tr>\n",
       "      <th>6</th>\n",
       "      <td>Surface Temperature:</td>\n",
       "      <td>-153 to 20 °C</td>\n",
       "    </tr>\n",
       "    <tr>\n",
       "      <th>7</th>\n",
       "      <td>First Record:</td>\n",
       "      <td>2nd millennium BC</td>\n",
       "    </tr>\n",
       "    <tr>\n",
       "      <th>8</th>\n",
       "      <td>Recorded By:</td>\n",
       "      <td>Egyptian astronomers</td>\n",
       "    </tr>\n",
       "  </tbody>\n",
       "</table>\n",
       "</div>"
      ],
      "text/plain": [
       "            Description                          Value\n",
       "0  Equatorial Diameter:                       6,792 km\n",
       "1       Polar Diameter:                       6,752 km\n",
       "2                 Mass:  6.42 x 10^23 kg (10.7% Earth)\n",
       "3                Moons:            2 (Phobos & Deimos)\n",
       "4       Orbit Distance:       227,943,824 km (1.52 AU)\n",
       "5         Orbit Period:           687 days (1.9 years)\n",
       "6  Surface Temperature:                  -153 to 20 °C\n",
       "7         First Record:              2nd millennium BC\n",
       "8          Recorded By:           Egyptian astronomers"
      ]
     },
     "execution_count": 25,
     "metadata": {},
     "output_type": "execute_result"
    }
   ],
   "source": [
    "# Create Mars Facts DataFrame\n",
    "data = {'Description':mars_facts, 'Value':mars_facts_values}\n",
    "mars_facts_df = pd.DataFrame(data)\n",
    "mars_facts_df"
   ]
  },
  {
   "cell_type": "code",
   "execution_count": 26,
   "metadata": {},
   "outputs": [],
   "source": [
    "# Set index to Description\n",
    "mars_facts_df = mars_facts_df.set_index('Description')"
   ]
  },
  {
   "cell_type": "code",
   "execution_count": 27,
   "metadata": {},
   "outputs": [
    {
     "data": {
      "text/html": [
       "<div>\n",
       "<style scoped>\n",
       "    .dataframe tbody tr th:only-of-type {\n",
       "        vertical-align: middle;\n",
       "    }\n",
       "\n",
       "    .dataframe tbody tr th {\n",
       "        vertical-align: top;\n",
       "    }\n",
       "\n",
       "    .dataframe thead th {\n",
       "        text-align: right;\n",
       "    }\n",
       "</style>\n",
       "<table border=\"1\" class=\"dataframe\">\n",
       "  <thead>\n",
       "    <tr style=\"text-align: right;\">\n",
       "      <th></th>\n",
       "      <th>Value</th>\n",
       "    </tr>\n",
       "    <tr>\n",
       "      <th>Description</th>\n",
       "      <th></th>\n",
       "    </tr>\n",
       "  </thead>\n",
       "  <tbody>\n",
       "    <tr>\n",
       "      <th>Equatorial Diameter:</th>\n",
       "      <td>6,792 km</td>\n",
       "    </tr>\n",
       "    <tr>\n",
       "      <th>Polar Diameter:</th>\n",
       "      <td>6,752 km</td>\n",
       "    </tr>\n",
       "    <tr>\n",
       "      <th>Mass:</th>\n",
       "      <td>6.42 x 10^23 kg (10.7% Earth)</td>\n",
       "    </tr>\n",
       "    <tr>\n",
       "      <th>Moons:</th>\n",
       "      <td>2 (Phobos &amp; Deimos)</td>\n",
       "    </tr>\n",
       "    <tr>\n",
       "      <th>Orbit Distance:</th>\n",
       "      <td>227,943,824 km (1.52 AU)</td>\n",
       "    </tr>\n",
       "    <tr>\n",
       "      <th>Orbit Period:</th>\n",
       "      <td>687 days (1.9 years)</td>\n",
       "    </tr>\n",
       "    <tr>\n",
       "      <th>Surface Temperature:</th>\n",
       "      <td>-153 to 20 °C</td>\n",
       "    </tr>\n",
       "    <tr>\n",
       "      <th>First Record:</th>\n",
       "      <td>2nd millennium BC</td>\n",
       "    </tr>\n",
       "    <tr>\n",
       "      <th>Recorded By:</th>\n",
       "      <td>Egyptian astronomers</td>\n",
       "    </tr>\n",
       "  </tbody>\n",
       "</table>\n",
       "</div>"
      ],
      "text/plain": [
       "                                              Value\n",
       "Description                                        \n",
       "Equatorial Diameter:                       6,792 km\n",
       "Polar Diameter:                            6,752 km\n",
       "Mass:                 6.42 x 10^23 kg (10.7% Earth)\n",
       "Moons:                          2 (Phobos & Deimos)\n",
       "Orbit Distance:            227,943,824 km (1.52 AU)\n",
       "Orbit Period:                  687 days (1.9 years)\n",
       "Surface Temperature:                  -153 to 20 °C\n",
       "First Record:                     2nd millennium BC\n",
       "Recorded By:                   Egyptian astronomers"
      ]
     },
     "execution_count": 27,
     "metadata": {},
     "output_type": "execute_result"
    }
   ],
   "source": [
    "mars_facts_df"
   ]
  },
  {
   "cell_type": "code",
   "execution_count": 28,
   "metadata": {},
   "outputs": [
    {
     "data": {
      "text/plain": [
       "'<table border=\"1\" class=\"dataframe\">\\n  <thead>\\n    <tr style=\"text-align: right;\">\\n      <th></th>\\n      <th>Value</th>\\n    </tr>\\n    <tr>\\n      <th>Description</th>\\n      <th></th>\\n    </tr>\\n  </thead>\\n  <tbody>\\n    <tr>\\n      <th>Equatorial Diameter:</th>\\n      <td>6,792 km</td>\\n    </tr>\\n    <tr>\\n      <th>Polar Diameter:</th>\\n      <td>6,752 km</td>\\n    </tr>\\n    <tr>\\n      <th>Mass:</th>\\n      <td>6.42 x 10^23 kg (10.7% Earth)</td>\\n    </tr>\\n    <tr>\\n      <th>Moons:</th>\\n      <td>2 (Phobos &amp; Deimos)</td>\\n    </tr>\\n    <tr>\\n      <th>Orbit Distance:</th>\\n      <td>227,943,824 km (1.52 AU)</td>\\n    </tr>\\n    <tr>\\n      <th>Orbit Period:</th>\\n      <td>687 days (1.9 years)</td>\\n    </tr>\\n    <tr>\\n      <th>Surface Temperature:</th>\\n      <td>-153 to 20 °C</td>\\n    </tr>\\n    <tr>\\n      <th>First Record:</th>\\n      <td>2nd millennium BC</td>\\n    </tr>\\n    <tr>\\n      <th>Recorded By:</th>\\n      <td>Egyptian astronomers</td>\\n    </tr>\\n  </tbody>\\n</table>'"
      ]
     },
     "execution_count": 28,
     "metadata": {},
     "output_type": "execute_result"
    }
   ],
   "source": [
    "# DataFrame.to_html(https://pandas.pydata.org/pandas-docs/version/0.23.4/generated/pandas.DataFrame.to_html.html)\n",
    "mars_facts_df.to_html()"
   ]
  },
  {
   "cell_type": "markdown",
   "metadata": {},
   "source": [
    "Scraped data to pass:\n",
    "* mars_facts_df.to_html()"
   ]
  },
  {
   "cell_type": "markdown",
   "metadata": {},
   "source": [
    "---"
   ]
  },
  {
   "cell_type": "markdown",
   "metadata": {},
   "source": [
    "## Mars Hemispheres\n",
    "* Visit the USGS Astrogeology site here to obtain high resolution images for each of Mar's hemispheres.\n",
    "* You will need to click each of the links to the hemispheres in order to find the image url to the full resolution image.\n",
    "* Save both the image url string for the full resolution hemisphere image, and the Hemisphere title containing the hemisphere name. Use a Python dictionary to store the data using the keys img_url and title.\n",
    "* Append the dictionary with the image url string and the hemisphere title to a list. This list will contain one dictionary for each hemisphere."
   ]
  },
  {
   "cell_type": "code",
   "execution_count": 29,
   "metadata": {},
   "outputs": [],
   "source": [
    "# Open Browser with splinter\n",
    "executable_path = {'executable_path': chromedriver_path}\n",
    "browser = Browser('chrome', **executable_path, headless=False)"
   ]
  },
  {
   "cell_type": "code",
   "execution_count": 30,
   "metadata": {},
   "outputs": [
    {
     "data": {
      "text/plain": [
       "'/usr/local/bin/chromedriver'"
      ]
     },
     "execution_count": 30,
     "metadata": {},
     "output_type": "execute_result"
    }
   ],
   "source": [
    "chromedriver_path"
   ]
  },
  {
   "cell_type": "code",
   "execution_count": 31,
   "metadata": {},
   "outputs": [],
   "source": [
    "# Base USGS Astrogeology site Link\n",
    "base_usgs_link='https://astrogeology.usgs.gov'"
   ]
  },
  {
   "cell_type": "code",
   "execution_count": 32,
   "metadata": {},
   "outputs": [],
   "source": [
    "# Define and visit URL\n",
    "mars_hemispheres_url = 'https://astrogeology.usgs.gov/search/results?q=hemisphere+enhanced&k1=target&v1=Mars'\n",
    "browser.visit(mars_hemispheres_url)"
   ]
  },
  {
   "cell_type": "code",
   "execution_count": 33,
   "metadata": {},
   "outputs": [
    {
     "name": "stdout",
     "output_type": "stream",
     "text": [
      "/search/map/Mars/Viking/cerberus_enhanced\n",
      "/search/map/Mars/Viking/schiaparelli_enhanced\n",
      "/search/map/Mars/Viking/syrtis_major_enhanced\n",
      "/search/map/Mars/Viking/valles_marineris_enhanced\n"
     ]
    }
   ],
   "source": [
    "# Extract Mars Facts Table\n",
    "html = browser.html\n",
    "soup = bs(html, 'html.parser')\n",
    "\n",
    "hem_links = soup.find_all('div', class_='item')\n",
    "\n",
    "hemispheres_dict = {}\n",
    "for link in hem_links:\n",
    "    # Get the link to the hemisphere\n",
    "    hemisphere_url = link.find('a')['href']\n",
    "    title = link.find('h3').text\n",
    "    \n",
    "    print(hemisphere_url)\n",
    "    "
   ]
  },
  {
   "cell_type": "code",
   "execution_count": 34,
   "metadata": {},
   "outputs": [],
   "source": [
    "# OK\n",
    "# Parse HTML\n",
    "html = browser.html\n",
    "soup = bs(html, 'html.parser')\n",
    "\n",
    "hem_links = soup.find_all('div', class_='item')\n",
    "\n",
    "# List to save the image data.\n",
    "hemisphere_image_urls = []\n",
    "\n",
    "for link in hem_links:\n",
    "    title = link.find('h3').text\n",
    "    # Get the link to the hemisphere\n",
    "    hemisphere_url = link.find('a')['href']\n",
    "    #print(title)\n",
    "    key_word = title.split(' ')\n",
    "    \n",
    "    try:\n",
    "        \n",
    "        browser.click_link_by_partial_text(key_word[0])\n",
    "        \n",
    "        # Reload html and soup for the new window\n",
    "        html = browser.html\n",
    "        soup = bs(html, 'html.parser')\n",
    "        \n",
    "        # Extract the image URL\n",
    "        image = soup.find('div', class_='downloads')        \n",
    "        \n",
    "        image_url = image.find('a')['href']\n",
    "        \n",
    "        # Save data to a Dictionary\n",
    "        hemispheres_dict = {\n",
    "            'Title':title,\n",
    "            'Img_URL':image_url\n",
    "        } \n",
    "        # Append new dictionary to list\n",
    "        hemisphere_image_urls.append(hemispheres_dict)\n",
    "        \n",
    "    except:\n",
    "        print('Cant click')\n"
   ]
  },
  {
   "cell_type": "code",
   "execution_count": 35,
   "metadata": {},
   "outputs": [
    {
     "data": {
      "text/plain": [
       "[{'Title': 'Cerberus Hemisphere Enhanced',\n",
       "  'Img_URL': 'http://astropedia.astrogeology.usgs.gov/download/Mars/Viking/cerberus_enhanced.tif/full.jpg'},\n",
       " {'Title': 'Schiaparelli Hemisphere Enhanced',\n",
       "  'Img_URL': 'http://astropedia.astrogeology.usgs.gov/download/Mars/Viking/schiaparelli_unenhanced.tif/full.jpg'},\n",
       " {'Title': 'Syrtis Major Hemisphere Enhanced',\n",
       "  'Img_URL': 'http://astropedia.astrogeology.usgs.gov/download/Mars/Viking/syrtis_major_unenhanced.tif/full.jpg'},\n",
       " {'Title': 'Valles Marineris Hemisphere Enhanced',\n",
       "  'Img_URL': 'http://astropedia.astrogeology.usgs.gov/download/Mars/Viking/valles_marineris_unenhanced.tif/full.jpg'}]"
      ]
     },
     "execution_count": 35,
     "metadata": {},
     "output_type": "execute_result"
    }
   ],
   "source": [
    "# OK - One of the links is extracted twice.\n",
    "hemisphere_image_urls"
   ]
  },
  {
   "cell_type": "markdown",
   "metadata": {
    "collapsed": true
   },
   "source": [
    "Scraped data to pass (Dictionary):\n",
    "* hemisphere_image_urls"
   ]
  },
  {
   "cell_type": "code",
   "execution_count": null,
   "metadata": {},
   "outputs": [],
   "source": []
  }
 ],
 "metadata": {
  "kernelspec": {
   "display_name": "Python 3",
   "language": "python",
   "name": "python3"
  },
  "language_info": {
   "codemirror_mode": {
    "name": "ipython",
    "version": 3
   },
   "file_extension": ".py",
   "mimetype": "text/x-python",
   "name": "python",
   "nbconvert_exporter": "python",
   "pygments_lexer": "ipython3",
   "version": "3.6.7"
  }
 },
 "nbformat": 4,
 "nbformat_minor": 2
}
